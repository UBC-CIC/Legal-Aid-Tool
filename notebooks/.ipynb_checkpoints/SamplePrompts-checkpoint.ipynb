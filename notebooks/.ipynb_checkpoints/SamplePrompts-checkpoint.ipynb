{
 "cells": [
  {
   "cell_type": "markdown",
   "id": "a837a496-fb9e-488f-8533-bbb4818d2393",
   "metadata": {},
   "source": [
    "| Case                         | Prompt |\n",
    "|------------------------------|--------|\n",
    "| **Assault Case Prompt**      | Accused is charged with assault causing bodily harm contrary to section 267(b) of the Criminal Code.  <br> Accused was having an argument in a bar with the Victim, and the Victim is claiming that the Accused punched him repeatedly in an unprovoked attack.  <br> Accused versions of events is that he was fairly intoxicated but still had a good sense of what was going on.  <br> Accused remembers that he and Victim argued and then Victim challenged him to a fight.  <br> Accused says he started walking away.  <br> Accused then says Victim then pushed Accused from behind and Accused says he then turned around and punched Victim in the stomach twice to defend himself. |\n",
    "| **Restraining Order Case Prompt** | Client lives in Vancouver, BC, and has family law issues. She and her husband were married for two years and have one child. She and the child recently left her husband because he was being abusive to her and their child. She is seeking some sort of restraining order against her husband to protect herself and her child and needs some form of child support because she is not working. |\n"
   ]
  },
  {
   "cell_type": "markdown",
   "id": "7cf5431f-5078-4590-bbcc-5177c314ddcf",
   "metadata": {},
   "source": [
    "## Assault case prompt response # 1\n",
    "\n",
    "**Response:**  \n",
    "The essential elements of proving the offence of assault causing bodily harm are:  \n",
    "\n",
    "- Application of force  \n",
    "- Intent to apply force  \n",
    "- Victim not consenting to force  \n",
    "- Harm that is more than trifling  \n",
    "\n",
    "Assault is an included offence of assault causing bodily harm.  \n",
    "\n",
    "The scenario raises potential defences of self-defence and consent. The intoxication is unlikely to be a relevant issue.  \n",
    "\n",
    "There are critical factual issues in this case in terms of who started the physical altercation and the level of force used by the accused in his response.  \n",
    "\n",
    "The accused's version of events suggests that the victim may have initiated the physical altercation, which could be a potential defence. The level of force used by the accused in response to the victim's actions may also be relevant.  \n",
    "\n",
    "Some possible follow-up questions for you to ask the client could be:  \n",
    "\n",
    "- Can you describe the physical altercation in more detail, including the exact sequence of events?  \n",
    "- How did you feel during the altercation, and did you feel threatened by the victim's actions?  \n",
    "- Can you describe the level of force you used when you punched the victim in the stomach, and did you feel that it was necessary to use that level of force to defend yourself?  \n",
    "- Did you try to leave the area or de-escalate the situation before things escalated physically?  \n",
    "\n",
    "These questions could help to clarify the factual issues in the case and provide more context for the legal analysis.  \n",
    "\n",
    "Please let me know if this is what you are looking for or if you need any further assistance.  \n"
   ]
  },
  {
   "cell_type": "markdown",
   "id": "dd324227-bf11-45cb-8c2b-a2988cb8368b",
   "metadata": {},
   "source": [
    "## Assault case prompt response # 2\n",
    "\n",
    "**Response:**  \n",
    "Hi there, I'd be happy to help you analyze this case.  \n",
    "\n",
    "Based on the information provided, it appears that the accused is charged with assault causing bodily harm under section 267(b) of the Criminal Code.  \n",
    "\n",
    "To prove the offence of assault causing bodily harm, the prosecution must establish the essential elements, which include:  \n",
    "\n",
    "1. The application of force  \n",
    "2. The intent to apply force  \n",
    "3. The victim did not consent to the force  \n",
    "4. And that the harm caused was more than trifling  \n",
    "\n",
    "In this case, the victim claims that the accused punched him repeatedly in an unprovoked attack, which may suggest that the accused did not have a reasonable belief in the need to defend himself.  \n",
    "\n",
    "However, the accused's version of events suggests that he was pushed from behind by the victim and that he punched the victim in self-defense.  \n",
    "\n",
    "This raises potential defences of self-defence and consent, which the accused may be able to argue. It's also important to note that the accused's intoxication may not be a relevant issue in this case.  \n",
    "\n",
    "There are also critical factual issues in this case, such as who started the physical altercation and the level of force used by the accused in his response.  \n",
    "\n",
    "Some potential follow-up questions you could ask the client to clarify the facts include:  \n",
    "\n",
    "1. Can you describe the argument that occurred before the physical altercation?  \n",
    "2. Did you see the victim push you from behind before you punched him?  \n",
    "3. How did you feel after being pushed from behind? Did you feel threatened or scared?  \n",
    "4. Did you try to de-escalate the situation before punching the victim?  \n",
    "5. Can you describe the level of force you used when punching the victim?  \n",
    "\n",
    "I hope this helps! Let me know if you have any other questions or if there's anything else I can help with.  "
   ]
  },
  {
   "cell_type": "markdown",
   "id": "c09f0292-ac7e-41c1-99a2-fa84095422fb",
   "metadata": {},
   "source": [
    "## Restraining order case prompt response #1\n",
    "Restraining order case prompt  \n",
    "\n",
    "**Response:**  \n",
    "Based on the information provided, it appears that the client is seeking a restraining order and child support due to domestic violence.  \n",
    "\n",
    "In British Columbia, the client may be eligible for an Emergency Protection Order (EPO) or a Restraining Order (RO) under the Family Law Act.  \n",
    "\n",
    "An EPO is a temporary order that can be obtained quickly, usually within 24 hours, to provide immediate protection for the client and her child.  \n",
    "\n",
    "An RO is a longer-term order that can provide ongoing protection and support.  \n",
    "\n",
    "In terms of child support, the client may be eligible for support under the Family Maintenance Enforcement Program (FMEP) or through a court order.  \n",
    "\n",
    "The client should also be aware that she may be eligible for other forms of support, such as spousal support, and that she should seek legal advice to determine her options.  \n",
    "\n",
    "Additionally, the client may want to consider seeking support from local community resources, such as the Vancouver Women's Transition House or the BC Society for Male Survivors of Child Abuse, which provide support and resources for individuals and families affected by domestic violence.  \n",
    "\n",
    "Possible follow-up questions for the client:  \n",
    "\n",
    "1. Can you provide more information about the abuse you and your child experienced, including any incidents, threats, or intimidation?  \n",
    "2. Have you already taken any steps to leave the relationship, such as changing your locks or getting a new phone number?  \n",
    "3. Do you have any documentation or evidence of the abuse, such as police reports, medical records, or photos?  \n",
    "4. Have you spoken to any family or friends about the abuse, and if so, have they been supportive?  \n",
    "5. Are there any specific concerns you have about your child's well-being or safety in the current situation?  \n"
   ]
  },
  {
   "cell_type": "markdown",
   "id": "20c5be6e-4d81-4941-a89e-34a3ad2fb733",
   "metadata": {},
   "source": [
    "## Restraining order case prompt response #2\n",
    "\n",
    "**Response:**  \n",
    "Hi! Thank you for sharing this information with me. It sounds like a very serious and sensitive situation.  \n",
    "\n",
    "Based on the information you've provided, it seems that the client is seeking a restraining order and child support due to domestic violence.  \n",
    "\n",
    "In British Columbia, the client may be eligible for an Emergency Protection Order (EPO) or a Restraining Order (RO) under the Family Law Act.  \n",
    "\n",
    "An EPO is a court order that can be obtained quickly, usually within 24 hours, to provide immediate protection for the client and her child.  \n",
    "\n",
    "A RO, on the other hand, is a longer-term order that can provide ongoing protection and support for the client and her child.  \n",
    "\n",
    "In terms of child support, the client may be eligible for support under the Family Maintenance Enforcement Program (FMEP) or through a court order.  \n",
    "\n",
    "It's also important to note that the client may be eligible for other forms of support, such as counseling or legal aid, to help her and her child navigate this difficult situation.  \n",
    "\n",
    "What would you like to know more about or discuss further? Are there any specific concerns or questions the client has about the restraining order or child support process?  \n",
    "\n",
    "Please let me know and I'll do my best to provide more information and guidance.  \n"
   ]
  },
  {
   "cell_type": "markdown",
   "id": "a4dea038-7403-4ecc-bf92-849e57888473",
   "metadata": {},
   "source": [
    "# INCORRECT INFORMATION, ALERT\n",
    "\n",
    "Answer:  Ah, yes, abuse is a serious issue that can have a significant impact on the divorce process. In Canada, the Divorce Act and the Family Law Act both address the issue of abuse in the context of divorce.\n",
    "\n",
    "The Divorce Act sets out specific provisions for dealing with abuse in the context of divorce. For example, Section 5(6) of the Divorce Act provides that a court may consider evidence of abuse when making a decision about child custody and support. This means that if there is evidence of abuse, the court may take that into account when making decisions about the best interests of the child.\n",
    "\n",
    "The Family Law Act also addresses the issue of abuse in the context of divorce. For example, Section 3(1) of the Family Law Act provides that a court may consider evidence of abuse when making a decision about child custody and support. This means that if there is evidence of abuse, the court may take that into account when making decisions about the best interests of the child.\n",
    "\n",
    "In addition to these specific provisions, there are also general principles of Canadian law that may be relevant in this situation. For example, the principle of the best interests of the child is a fundamental principle of Canadian family law. This means that the court will always prioritize the best interests of the child when making decisions about child custody and support.\n",
    "\n",
    "It's also important to note that the court may consider the wishes of the child themselves, if they are old enough to express an opinion. This means that the child's wishes may be taken into account when making decisions about child custody and support.\n",
    "\n",
    "Overall, the laws in Canada are designed to protect the rights and interests of all parties involved in a divorce, including the children. If you have any further questions or would like more specific information, please don't hesitate to ask!"
   ]
  },
  {
   "cell_type": "code",
   "execution_count": null,
   "id": "7bf54f38-a9de-4741-9f9a-55bda9533d08",
   "metadata": {},
   "outputs": [],
   "source": []
  }
 ],
 "metadata": {
  "kernelspec": {
   "display_name": "conda_python3",
   "language": "python",
   "name": "conda_python3"
  },
  "language_info": {
   "codemirror_mode": {
    "name": "ipython",
    "version": 3
   },
   "file_extension": ".py",
   "mimetype": "text/x-python",
   "name": "python",
   "nbconvert_exporter": "python",
   "pygments_lexer": "ipython3",
   "version": "3.10.16"
  }
 },
 "nbformat": 4,
 "nbformat_minor": 5
}
